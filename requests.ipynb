{
 "cells": [
  {
   "cell_type": "markdown",
   "metadata": {},
   "source": [
    "# requests库"
   ]
  },
  {
   "cell_type": "markdown",
   "metadata": {},
   "source": [
    "推送链接：[关于爬虫，你需要知道的requests库](https://www.jianshu.com/p/5b3dbdade104)"
   ]
  },
  {
   "cell_type": "code",
   "execution_count": 1,
   "metadata": {},
   "outputs": [],
   "source": [
    "#导入requests库\n",
    "import requests"
   ]
  },
  {
   "cell_type": "code",
   "execution_count": 2,
   "metadata": {},
   "outputs": [],
   "source": [
    "#创建一个url\n",
    "url = \"http://www.baidu.com\""
   ]
  },
  {
   "cell_type": "code",
   "execution_count": 3,
   "metadata": {},
   "outputs": [],
   "source": [
    "#GET请求\n",
    "response = requests.get(url)"
   ]
  },
  {
   "cell_type": "code",
   "execution_count": 4,
   "metadata": {},
   "outputs": [
    {
     "data": {
      "text/plain": [
       "200"
      ]
     },
     "execution_count": 4,
     "metadata": {},
     "output_type": "execute_result"
    }
   ],
   "source": [
    "#状态码\n",
    "response.status_code"
   ]
  },
  {
   "cell_type": "code",
   "execution_count": 6,
   "metadata": {},
   "outputs": [
    {
     "data": {
      "text/plain": [
       "'OK'"
      ]
     },
     "execution_count": 6,
     "metadata": {},
     "output_type": "execute_result"
    }
   ],
   "source": [
    "#原因短语\n",
    "response.reason"
   ]
  },
  {
   "cell_type": "code",
   "execution_count": 7,
   "metadata": {},
   "outputs": [
    {
     "name": "stdout",
     "output_type": "stream",
     "text": [
      "Cache-Control:private, no-cache, no-store, proxy-revalidate, no-transform\n",
      "Connection:Keep-Alive\n",
      "Content-Encoding:gzip\n",
      "Content-Type:text/html\n",
      "Date:Mon, 04 Feb 2019 01:40:02 GMT\n",
      "Last-Modified:Mon, 23 Jan 2017 13:28:28 GMT\n",
      "Pragma:no-cache\n",
      "Server:bfe/1.0.8.18\n",
      "Set-Cookie:BDORZ=27315; max-age=86400; domain=.baidu.com; path=/\n",
      "Transfer-Encoding:chunked\n"
     ]
    }
   ],
   "source": [
    "#响应首部\n",
    "for name,value in response.headers.items():\n",
    "    print(\"%s:%s\"%(name,value))"
   ]
  },
  {
   "cell_type": "code",
   "execution_count": 8,
   "metadata": {},
   "outputs": [
    {
     "data": {
      "text/plain": [
       "b'<!DOCTYPE html>\\r\\n<!--STATUS OK--><html> <head><meta http-equiv=content-type content=text/html;charset=utf-8><meta http-equiv=X-UA-Compatible content=IE=Edge><meta content=always name=referrer><link rel=stylesheet type=text/css href=http://s1.bdstatic.com/r/www/cache/bdorz/baidu.min.css><title>\\xe7\\x99\\xbe\\xe5\\xba\\xa6\\xe4\\xb8\\x80\\xe4\\xb8\\x8b\\xef\\xbc\\x8c\\xe4\\xbd\\xa0\\xe5\\xb0\\xb1\\xe7\\x9f\\xa5\\xe9\\x81\\x93</title></head> <body link=#0000cc> <div id=wrapper> <div id=head> <div class=head_wrapper> <div class=s_form> <div class=s_form_wrapper> <div id=lg> <img hidefocus=true src=//www.baidu.com/img/bd_logo1.png width=270 height=129> </div> <form id=form name=f action=//www.baidu.com/s class=fm> <input type=hidden name=bdorz_come value=1> <input type=hidden name=ie value=utf-8> <input type=hidden name=f value=8> <input type=hidden name=rsv_bp value=1> <input type=hidden name=rsv_idx value=1> <input type=hidden name=tn value=baidu><span class=\"bg s_ipt_wr\"><input id=kw name=wd class=s_ipt value maxlength=255 autocomplete=off autofocus></span><span class=\"bg s_btn_wr\"><input type=submit id=su value=\\xe7\\x99\\xbe\\xe5\\xba\\xa6\\xe4\\xb8\\x80\\xe4\\xb8\\x8b class=\"bg s_btn\"></span> </form> </div> </div> <div id=u1> <a href=http://news.baidu.com name=tj_trnews class=mnav>\\xe6\\x96\\xb0\\xe9\\x97\\xbb</a> <a href=http://www.hao123.com name=tj_trhao123 class=mnav>hao123</a> <a href=http://map.baidu.com name=tj_trmap class=mnav>\\xe5\\x9c\\xb0\\xe5\\x9b\\xbe</a> <a href=http://v.baidu.com name=tj_trvideo class=mnav>\\xe8\\xa7\\x86\\xe9\\xa2\\x91</a> <a href=http://tieba.baidu.com name=tj_trtieba class=mnav>\\xe8\\xb4\\xb4\\xe5\\x90\\xa7</a> <noscript> <a href=http://www.baidu.com/bdorz/login.gif?login&amp;tpl=mn&amp;u=http%3A%2F%2Fwww.baidu.com%2f%3fbdorz_come%3d1 name=tj_login class=lb>\\xe7\\x99\\xbb\\xe5\\xbd\\x95</a> </noscript> <script>document.write(\\'<a href=\"http://www.baidu.com/bdorz/login.gif?login&tpl=mn&u=\\'+ encodeURIComponent(window.location.href+ (window.location.search === \"\" ? \"?\" : \"&\")+ \"bdorz_come=1\")+ \\'\" name=\"tj_login\" class=\"lb\">\\xe7\\x99\\xbb\\xe5\\xbd\\x95</a>\\');</script> <a href=//www.baidu.com/more/ name=tj_briicon class=bri style=\"display: block;\">\\xe6\\x9b\\xb4\\xe5\\xa4\\x9a\\xe4\\xba\\xa7\\xe5\\x93\\x81</a> </div> </div> </div> <div id=ftCon> <div id=ftConw> <p id=lh> <a href=http://home.baidu.com>\\xe5\\x85\\xb3\\xe4\\xba\\x8e\\xe7\\x99\\xbe\\xe5\\xba\\xa6</a> <a href=http://ir.baidu.com>About Baidu</a> </p> <p id=cp>&copy;2017&nbsp;Baidu&nbsp;<a href=http://www.baidu.com/duty/>\\xe4\\xbd\\xbf\\xe7\\x94\\xa8\\xe7\\x99\\xbe\\xe5\\xba\\xa6\\xe5\\x89\\x8d\\xe5\\xbf\\x85\\xe8\\xaf\\xbb</a>&nbsp; <a href=http://jianyi.baidu.com/ class=cp-feedback>\\xe6\\x84\\x8f\\xe8\\xa7\\x81\\xe5\\x8f\\x8d\\xe9\\xa6\\x88</a>&nbsp;\\xe4\\xba\\xacICP\\xe8\\xaf\\x81030173\\xe5\\x8f\\xb7&nbsp; <img src=//www.baidu.com/img/gs.gif> </p> </div> </div> </div> </body> </html>\\r\\n'"
      ]
     },
     "execution_count": 8,
     "metadata": {},
     "output_type": "execute_result"
    }
   ],
   "source": [
    "#响应内容\n",
    "response.content"
   ]
  },
  {
   "cell_type": "code",
   "execution_count": 9,
   "metadata": {},
   "outputs": [
    {
     "data": {
      "text/plain": [
       "{'Cache-Control': 'private, no-cache, no-store, proxy-revalidate, no-transform', 'Connection': 'Keep-Alive', 'Content-Encoding': 'gzip', 'Content-Type': 'text/html', 'Date': 'Mon, 04 Feb 2019 01:40:02 GMT', 'Last-Modified': 'Mon, 23 Jan 2017 13:28:28 GMT', 'Pragma': 'no-cache', 'Server': 'bfe/1.0.8.18', 'Set-Cookie': 'BDORZ=27315; max-age=86400; domain=.baidu.com; path=/', 'Transfer-Encoding': 'chunked'}"
      ]
     },
     "execution_count": 9,
     "metadata": {},
     "output_type": "execute_result"
    }
   ],
   "source": [
    "#响应头\n",
    "response.headers"
   ]
  },
  {
   "cell_type": "code",
   "execution_count": 16,
   "metadata": {},
   "outputs": [
    {
     "name": "stdout",
     "output_type": "stream",
     "text": [
      "<Response [200]>\n"
     ]
    }
   ],
   "source": [
    "#POST请求\n",
    "r = requests.post('http://httpbin.org/post', data = {'key':'value'})\n",
    "print(r)"
   ]
  },
  {
   "cell_type": "code",
   "execution_count": 17,
   "metadata": {},
   "outputs": [
    {
     "name": "stdout",
     "output_type": "stream",
     "text": [
      "<Response [200]>\n"
     ]
    }
   ],
   "source": [
    "#POST请求\n",
    "r = requests.put('http://httpbin.org/put', data = {'key':'value'})\n",
    "print(r)"
   ]
  },
  {
   "cell_type": "code",
   "execution_count": 19,
   "metadata": {},
   "outputs": [
    {
     "name": "stdout",
     "output_type": "stream",
     "text": [
      "<Response [200]>\n"
     ]
    }
   ],
   "source": [
    "#DELETE请求\n",
    "r = requests.delete('http://httpbin.org/delete')\n",
    "print(r)"
   ]
  },
  {
   "cell_type": "code",
   "execution_count": 20,
   "metadata": {},
   "outputs": [
    {
     "name": "stdout",
     "output_type": "stream",
     "text": [
      "<Response [200]>\n"
     ]
    }
   ],
   "source": [
    "#HEAD请求\n",
    "r = requests.head('http://httpbin.org/get')\n",
    "print(r)"
   ]
  },
  {
   "cell_type": "code",
   "execution_count": 21,
   "metadata": {},
   "outputs": [
    {
     "name": "stdout",
     "output_type": "stream",
     "text": [
      "<Response [200]>\n"
     ]
    }
   ],
   "source": [
    "#OPTIONS请求\n",
    "r = requests.options('http://httpbin.org/get')\n",
    "print(r)"
   ]
  },
  {
   "cell_type": "markdown",
   "metadata": {},
   "source": [
    "### 构建请求头"
   ]
  },
  {
   "cell_type": "code",
   "execution_count": 25,
   "metadata": {},
   "outputs": [
    {
     "data": {
      "text/plain": [
       "'OK'"
      ]
     },
     "execution_count": 25,
     "metadata": {},
     "output_type": "execute_result"
    }
   ],
   "source": [
    "import requests\n",
    "\n",
    "headers = {'User-Agent':'Mozilla/5.0 (Windows NT 6.1; Win64; x64) AppleWebKit/537.36 (KHTML, like Gecko) Chrome/67.0.3396.87 Safari/537.36'}\n",
    "response = requests.get(\"https://www.zhihu.com/explore\",headers=headers)\n",
    "response.reason"
   ]
  },
  {
   "cell_type": "markdown",
   "metadata": {},
   "source": [
    "### 构建请求查询参数"
   ]
  },
  {
   "cell_type": "code",
   "execution_count": 24,
   "metadata": {},
   "outputs": [
    {
     "data": {
      "text/plain": [
       "'http://httpbin.org/get?name=gemey&age=22'"
      ]
     },
     "execution_count": 24,
     "metadata": {},
     "output_type": "execute_result"
    }
   ],
   "source": [
    "import requests\n",
    "data = {'name':'gemey','age':22}\n",
    "response = requests.get(\"http://httpbin.org/get\",params=data)\n",
    "response.url"
   ]
  },
  {
   "cell_type": "markdown",
   "metadata": {},
   "source": [
    "### 构建 POST 请求数据"
   ]
  },
  {
   "cell_type": "code",
   "execution_count": 27,
   "metadata": {},
   "outputs": [
    {
     "data": {
      "text/plain": [
       "'OK'"
      ]
     },
     "execution_count": 27,
     "metadata": {},
     "output_type": "execute_result"
    }
   ],
   "source": [
    "#表单数据\n",
    "import requests\n",
    "payload = {'key1': 'value1', 'key2': 'value2'}\n",
    "r = requests.post(\"http://httpbin.org/post\", data=payload)\n",
    "r.reason"
   ]
  },
  {
   "cell_type": "code",
   "execution_count": 28,
   "metadata": {},
   "outputs": [
    {
     "data": {
      "text/plain": [
       "'OK'"
      ]
     },
     "execution_count": 28,
     "metadata": {},
     "output_type": "execute_result"
    }
   ],
   "source": [
    "#json格式\n",
    "import requests\n",
    "import json\n",
    "url = 'http://httpbin.org/post'\n",
    "payload = {'some': 'data'}\n",
    "r = requests.post(url, json=payload)\n",
    "r.reason"
   ]
  },
  {
   "cell_type": "markdown",
   "metadata": {},
   "source": [
    "### Response中的响应体"
   ]
  },
  {
   "cell_type": "markdown",
   "metadata": {},
   "source": [
    "#### content"
   ]
  },
  {
   "cell_type": "code",
   "execution_count": 29,
   "metadata": {},
   "outputs": [
    {
     "data": {
      "text/plain": [
       "bytes"
      ]
     },
     "execution_count": 29,
     "metadata": {},
     "output_type": "execute_result"
    }
   ],
   "source": [
    "import requests\n",
    "r = requests.get(\"https://pic1.zhimg.com/v2-2e92ebadb4a967829dcd7d05908ccab0_b.jpg\")\n",
    "type(r.content)"
   ]
  },
  {
   "cell_type": "code",
   "execution_count": 30,
   "metadata": {},
   "outputs": [],
   "source": [
    "#另存为 test.jpg\n",
    "with open(\"test.jpg\", \"wb\") as f:\n",
    "    f.write(r.content)"
   ]
  },
  {
   "cell_type": "markdown",
   "metadata": {},
   "source": [
    "#### text"
   ]
  },
  {
   "cell_type": "code",
   "execution_count": 34,
   "metadata": {},
   "outputs": [
    {
     "data": {
      "text/plain": [
       "str"
      ]
     },
     "execution_count": 34,
     "metadata": {},
     "output_type": "execute_result"
    }
   ],
   "source": [
    "import requests\n",
    "r = requests.get(\"https://foofish.net/understand-http.html\") #推荐python之禅网站\n",
    "type(r.text)"
   ]
  },
  {
   "cell_type": "markdown",
   "metadata": {},
   "source": [
    "#### json"
   ]
  },
  {
   "cell_type": "code",
   "execution_count": 37,
   "metadata": {},
   "outputs": [
    {
     "data": {
      "text/plain": [
       "[{'node': {'avatar_large': '//cdn.v2ex.com/navatar/70ef/df2e/17_large.png?m=1548114463',\n",
       "   'name': 'create',\n",
       "   'avatar_normal': '//cdn.v2ex.com/navatar/70ef/df2e/17_normal.png?m=1548114463',\n",
       "   'title': '分享创造',\n",
       "   'url': 'https://www.v2ex.com/go/create',\n",
       "   'topics': 11141,\n",
       "   'footer': '',\n",
       "   'header': '欢迎你在这里发布自己的最新作品！',\n",
       "   'title_alternative': 'Create',\n",
       "   'avatar_mini': '//cdn.v2ex.com/navatar/70ef/df2e/17_mini.png?m=1548114463',\n",
       "   'stars': 2780,\n",
       "   'root': False,\n",
       "   'id': 17,\n",
       "   'parent_node_name': 'geek'},\n",
       "  'member': {'username': 'angelshq',\n",
       "   'website': 'qpchat.com',\n",
       "   'github': '',\n",
       "   'psn': '',\n",
       "   'avatar_normal': '//cdn.v2ex.com/avatar/1f8a/ebbf/288830_mini.png?m=1517491847',\n",
       "   'bio': '',\n",
       "   'url': 'https://www.v2ex.com/u/angelshq',\n",
       "   'tagline': '',\n",
       "   'twitter': '',\n",
       "   'created': 1517491153,\n",
       "   'avatar_large': '//cdn.v2ex.com/avatar/1f8a/ebbf/288830_mini.png?m=1517491847',\n",
       "   'avatar_mini': '//cdn.v2ex.com/avatar/1f8a/ebbf/288830_mini.png?m=1517491847',\n",
       "   'location': '',\n",
       "   'btc': '',\n",
       "   'id': 288830},\n",
       "  'last_reply_by': 'bighair',\n",
       "  'last_touched': 1549261241,\n",
       "  'title': '我真的很累',\n",
       "  'url': 'https://www.v2ex.com/t/532897',\n",
       "  'created': 1549199518,\n",
       "  'content': '#### 前言\\r\\n大龄、转行、独立开发者、全栈，这些都在我身上体现出来，本来想等产品出来再分享我互联网创业过程的，逼于无奈，想尽早结束这“一切”，唯有提前了。\\r\\n\\r\\n#### 创业前的我\\r\\n本人出生于富裕家庭，后来变成特困家庭。2004 年毕业于师范本科机械专业，因为没有交学费，毕业时被学校扣押了毕业证，毕业后一直在一家民办技工学校任教，包括机械专业，计算机专业都有涉及。工资不高，安于现状吧，一直任教到 2016 年 6 月，毅然离职创业。离职的主要原因是学校对每个人的思想控制，将佛教和儒家文化“贯穿”到每个师生中，一个技工学校搞这些是最不能容忍的。\\r\\n\\r\\n#### 开始创业\\r\\n离职后，和老婆商量好一年时间，给我一年的创业时间，不行再找工作。此时 36 岁，好吧，一年时间应该够的。开始定的目标是在 Themeforest 创作主题销售，Wordpress 用户最多，所以在 Youtube、Udemy 上查找各种 wordpress 教程，免费的和付费的都学一遍。同时学习 Swift 和 Angular 2 课程。7 月-11 月，Wordpress 学完，Swift 学到一半，Angular 2 学完，准备尝试制作销售的主题和官网，此时想起官网应该要有个客服系统解决售前和售后问题，正好 Angular 2 学完，加上 2014 年到 2016 年任教过 Nodejs，开发过简易聊天室和博客系统，想着客服系统应该不难，就用 Angular 2 + Nodejs 开发吧。\\r\\n\\r\\n#### 项目的第一行代码\\r\\n2016 年 11 月 19 日建立文件，敲下项目第一行代码。此时压力不大，开启了白天编程夜晚娱乐的模式（玩 CS1.6 游戏，玩了十几年，这年纪也就只能玩这个了）。早上 7 点开车送完老婆小孩上班上学，回来打开电脑开始编程，下午 4 点半接送。期间没 8 个小时也有 6 个小时在编程，晚上也不是一直玩游戏，有比赛就打，没比赛就工作，节假日不休息。家务是老婆做饭，教小孩做作业；我洗碗，洗衣服，一星期三次拖地。编码一段时间完成聊天功能后，开始制作图标、UI，由于没有基础，也不是美术专业出生，只能从 0 开始。开始在 Youtube 查找 Sketch 3 课程，能找到的基本过目一遍，同时也在 Udemy 购买 UI 课程，开始制作。\\r\\n\\r\\n#### 放弃游戏\\r\\n2017 年 8 月份，已经过去一年了，原本只给我一年的创业时间，但开始的想法是与实际不相符的，实际上项目只进行了 9 个月，且功能不停地增加（帮助中心，文件的多路传输，p2p 传输，单一服务细化成微服务的布局，MYSQL 主从复制，redis 缓存，......），最费事的是 UI，有时盯着屏幕几小时，想不出页面该如何绘制才好看，所以继续延长时间，停止了游戏，一天 10-14 个小时的工作，晚上 1 点左右休息，7 点起床，没有双休日，没有节假日，家务还是照常。\\r\\n\\r\\n#### 跌入另一个坑\\r\\n2017 年 11 月份的时候，制作官网时想到多语言，是的，此产品的目标客户是国外的网站，必须要支持多语言，支持国际化，这些语言放在单一文件或文件夹是无法查看翻译进度的，哪些已修改哪些没有修改也无法得知，好吧，必须做成平台，已经到这步了，没时间也没有办法。此时老婆的思想开始动摇了，整天问我什么时候做好，说好给一年时间，现在呢？所以催着我找工作，我知道到现在这步是无法得出确定时间的，原本是聊天客服，现在多了个翻译平台，从一个坑跳入另一个坑，所以也没有出声说什么时候完成，由于现在经济紧张，所以我说我去找融资。\\r\\n\\r\\n#### 30 万，引来了异样的眼光\\r\\n我跟老婆说：“我去找融资，给我时间”。对融资一无所知，开始查找资料，了解创业融资，各个平台，用 Sketch 绘制融资计划书。了解资料后，由于官网没有完成，产品没有原型，对外很难融资，所以先找朋友。找了一个朋友，相互交流后，提出 30 万，出让 8%，或 10 万，4%，当作种子或天使投资，他认为加快加大投资才能占领市场。但这是为有资源的人准备的，我不具备，所以就没有结果了，大家的思想观念不一样。再后来就没有再找了，几乎每个人都认为 30 万太多了，天上哪会掉下那么大的馅饼？是的，这“馅饼”在他们眼里最多就值几万，甚至几千。没有再去找融资，老婆、朋友们就催我找工作，可以试试跑滴滴或做老师，也有几千收入，我也没有怎么出声，就一直赖着做产品。\\r\\n\\r\\n#### 信用卡套现\\r\\n2018 年过完年后，老婆不再信任我，房贷（ 4 千左右）、生活费她负责（她上班工资+她家里每月有资金支持），车贷（ 3 千，还剩半年还完）、管理费、车辆使用费我负责，我是完全没有收入来源的，原来的家庭也有些事，需要几千，没办法，只能套取信用卡了，支撑完车贷再说吧。\\r\\n\\r\\n#### 有苦说不出\\r\\n2018 年 6 月，几乎每个朋友（也没几个，就 3 个）、亲人每隔段时间都问我：“做得怎么样？怎么做那么久？两年了还没有做出来？”，到这里实际上才 1 年半多点，没满两年。此时他们不知道我做着另一个产品 -- 翻译平台，不知道几千条内容引入机器翻译（谷歌、亚马逊、微软）后对照取最佳效果需要时间，不知道系统对接 Stripe 支付需要时间，不知道我为了了解美国的公司、税务查阅了多少资料。和他们解释也等于白说，所以我就说：“快了，快了。”，真是有苦说不出。\\r\\n\\r\\n#### 失业 + 生病\\r\\n此时，老婆失业了，理由是跟不上学校的传统文化理念，学校赔偿了半年的工资，打算休息半年再说。7 月份我们去了海南旅游，旅游完回来身体不舒服，检查出了问题，需要服药 2 年。是的，两年来我过度透支了身体，120 斤瘦成了 100 斤，每日都是坐着对着电脑，步行数不超过几百，视力下降，胡子变白，两年来所讲的话也没有之前当老师一个月所讲的话多（本来我也是不喜欢说话的人）。我告诉自己身体不能垮，垮了不是一个人或一个家庭的问题，所有的理想、计划、抱负都会随之湮灭。开始吃药调理身体，以后每坐 45 分钟，休息 10-15 分钟，到阳台看看远处，抽抽烟，做做运动，同时晚饭后坚持到小区楼下散步 1 小时，中午偶然也散散步。\\r\\n\\r\\n#### 家庭矛盾加剧\\r\\n很快，身体指数慢慢变好，一个月胖了 20 斤，但随之而来的是经济越来越紧张，每到月底都想办法从这张卡套到那张卡，我和老婆经常冷战，偶尔大吵。到 2018 年 12 月底，我本人总共透支了 8 万，没办法，第一次向朋友借几千周转，我知道不能再这样了......\\r\\n\\r\\n#### 我累了\\r\\n两年多来，一个人写了 10 多万行代码，绘制 100 多张图，“翻译”了过万行的内容。到现在，我的聊天客服产品还没有完成，但也已基本成型，翻译系统已辅助聊天客服完成国际化多语言，可以暂时放下一段时间了，现在只需找专业的翻译人员对接即可，后期再考虑官网与 API，独立成立另一个国外公司。累了，真的累了，我的累不是体力的累，不是脑力的累，写代码的过程是开心的，遇到问题都能解决，如果这都不能扛下来，我一开始就不会设计成一个人独自走完整个流程，后续还有 Stripe 公司注册、会计、税务等。而是心累，大多数的人只看结果，不会理会你过程的付出，或者作为“看客”。时间久了，就连最亲的人都不信任：\\r\\n\\r\\n* 坐了几个小时，累了，去沙发趟会，“怎么这么闲呀？”\\r\\n* 起身走走，缓解身体压力的时候，“好闲呀！”\\r\\n* “这么有空，帮忙搞卫生呀！”\\r\\n* “这两年你做了什么，整天闲在家里！”\\r\\n* 生病那会，咳嗽有时候不是你能控制的，“要咳出去咳，吵着我睡觉啦。”\\r\\n* 还信用卡那会，“怎么又这么多？”，经常性查帐，而我从不过问她的帐，她是主要收入来源者，我无说话权。\\r\\n* 她上班那会，“早上是不是偷懒睡觉呀？”，在家待业时，经常自己睡到 11、12 点。\\r\\n* 玩着手机教小孩做作业，小孩坐姿不端正不去纠正，我无法出声讲她，这样只会带来吵架。\\r\\n* ......\\r\\n\\r\\n她也为家庭付出了很多，我只想结束这一切，排除干扰因素，安心地投入到产品开发中，我需要时间，在这时间内结束这一切只有：钱。目前解决钱的问题有两种方法，1、优惠预售，2、融资。现在我优先采用优惠预售，有需求的，可以查看我的优惠活动文章。__我会履行契约，遵守承诺__。\\r\\n\\r\\n\\r\\n------ qpchat.com 创始人: 苏 XX',\n",
       "  'content_rendered': '<h4>前言</h4>\\n<p>大龄、转行、独立开发者、全栈，这些都在我身上体现出来，本来想等产品出来再分享我互联网创业过程的，逼于无奈，想尽早结束这“一切”，唯有提前了。</p>\\n<h4>创业前的我</h4>\\n<p>本人出生于富裕家庭，后来变成特困家庭。2004 年毕业于师范本科机械专业，因为没有交学费，毕业时被学校扣押了毕业证，毕业后一直在一家民办技工学校任教，包括机械专业，计算机专业都有涉及。工资不高，安于现状吧，一直任教到 2016 年 6 月，毅然离职创业。离职的主要原因是学校对每个人的思想控制，将佛教和儒家文化“贯穿”到每个师生中，一个技工学校搞这些是最不能容忍的。</p>\\n<h4>开始创业</h4>\\n<p>离职后，和老婆商量好一年时间，给我一年的创业时间，不行再找工作。此时 36 岁，好吧，一年时间应该够的。开始定的目标是在 Themeforest 创作主题销售，Wordpress 用户最多，所以在 Youtube、Udemy 上查找各种 wordpress 教程，免费的和付费的都学一遍。同时学习 Swift 和 Angular 2 课程。7 月-11 月，Wordpress 学完，Swift 学到一半，Angular 2 学完，准备尝试制作销售的主题和官网，此时想起官网应该要有个客服系统解决售前和售后问题，正好 Angular 2 学完，加上 2014 年到 2016 年任教过 Nodejs，开发过简易聊天室和博客系统，想着客服系统应该不难，就用 Angular 2 + Nodejs 开发吧。</p>\\n<h4>项目的第一行代码</h4>\\n<p>2016 年 11 月 19 日建立文件，敲下项目第一行代码。此时压力不大，开启了白天编程夜晚娱乐的模式（玩 CS1.6 游戏，玩了十几年，这年纪也就只能玩这个了）。早上 7 点开车送完老婆小孩上班上学，回来打开电脑开始编程，下午 4 点半接送。期间没 8 个小时也有 6 个小时在编程，晚上也不是一直玩游戏，有比赛就打，没比赛就工作，节假日不休息。家务是老婆做饭，教小孩做作业；我洗碗，洗衣服，一星期三次拖地。编码一段时间完成聊天功能后，开始制作图标、UI，由于没有基础，也不是美术专业出生，只能从 0 开始。开始在 Youtube 查找 Sketch 3 课程，能找到的基本过目一遍，同时也在 Udemy 购买 UI 课程，开始制作。</p>\\n<h4>放弃游戏</h4>\\n<p>2017 年 8 月份，已经过去一年了，原本只给我一年的创业时间，但开始的想法是与实际不相符的，实际上项目只进行了 9 个月，且功能不停地增加（帮助中心，文件的多路传输，p2p 传输，单一服务细化成微服务的布局，MYSQL 主从复制，redis 缓存，......），最费事的是 UI，有时盯着屏幕几小时，想不出页面该如何绘制才好看，所以继续延长时间，停止了游戏，一天 10-14 个小时的工作，晚上 1 点左右休息，7 点起床，没有双休日，没有节假日，家务还是照常。</p>\\n<h4>跌入另一个坑</h4>\\n<p>2017 年 11 月份的时候，制作官网时想到多语言，是的，此产品的目标客户是国外的网站，必须要支持多语言，支持国际化，这些语言放在单一文件或文件夹是无法查看翻译进度的，哪些已修改哪些没有修改也无法得知，好吧，必须做成平台，已经到这步了，没时间也没有办法。此时老婆的思想开始动摇了，整天问我什么时候做好，说好给一年时间，现在呢？所以催着我找工作，我知道到现在这步是无法得出确定时间的，原本是聊天客服，现在多了个翻译平台，从一个坑跳入另一个坑，所以也没有出声说什么时候完成，由于现在经济紧张，所以我说我去找融资。</p>\\n<h4>30 万，引来了异样的眼光</h4>\\n<p>我跟老婆说：“我去找融资，给我时间”。对融资一无所知，开始查找资料，了解创业融资，各个平台，用 Sketch 绘制融资计划书。了解资料后，由于官网没有完成，产品没有原型，对外很难融资，所以先找朋友。找了一个朋友，相互交流后，提出 30 万，出让 8%，或 10 万，4%，当作种子或天使投资，他认为加快加大投资才能占领市场。但这是为有资源的人准备的，我不具备，所以就没有结果了，大家的思想观念不一样。再后来就没有再找了，几乎每个人都认为 30 万太多了，天上哪会掉下那么大的馅饼？是的，这“馅饼”在他们眼里最多就值几万，甚至几千。没有再去找融资，老婆、朋友们就催我找工作，可以试试跑滴滴或做老师，也有几千收入，我也没有怎么出声，就一直赖着做产品。</p>\\n<h4>信用卡套现</h4>\\n<p>2018 年过完年后，老婆不再信任我，房贷（ 4 千左右）、生活费她负责（她上班工资+她家里每月有资金支持），车贷（ 3 千，还剩半年还完）、管理费、车辆使用费我负责，我是完全没有收入来源的，原来的家庭也有些事，需要几千，没办法，只能套取信用卡了，支撑完车贷再说吧。</p>\\n<h4>有苦说不出</h4>\\n<p>2018 年 6 月，几乎每个朋友（也没几个，就 3 个）、亲人每隔段时间都问我：“做得怎么样？怎么做那么久？两年了还没有做出来？”，到这里实际上才 1 年半多点，没满两年。此时他们不知道我做着另一个产品 -- 翻译平台，不知道几千条内容引入机器翻译（谷歌、亚马逊、微软）后对照取最佳效果需要时间，不知道系统对接 Stripe 支付需要时间，不知道我为了了解美国的公司、税务查阅了多少资料。和他们解释也等于白说，所以我就说：“快了，快了。”，真是有苦说不出。</p>\\n<h4>失业 + 生病</h4>\\n<p>此时，老婆失业了，理由是跟不上学校的传统文化理念，学校赔偿了半年的工资，打算休息半年再说。7 月份我们去了海南旅游，旅游完回来身体不舒服，检查出了问题，需要服药 2 年。是的，两年来我过度透支了身体，120 斤瘦成了 100 斤，每日都是坐着对着电脑，步行数不超过几百，视力下降，胡子变白，两年来所讲的话也没有之前当老师一个月所讲的话多（本来我也是不喜欢说话的人）。我告诉自己身体不能垮，垮了不是一个人或一个家庭的问题，所有的理想、计划、抱负都会随之湮灭。开始吃药调理身体，以后每坐 45 分钟，休息 10-15 分钟，到阳台看看远处，抽抽烟，做做运动，同时晚饭后坚持到小区楼下散步 1 小时，中午偶然也散散步。</p>\\n<h4>家庭矛盾加剧</h4>\\n<p>很快，身体指数慢慢变好，一个月胖了 20 斤，但随之而来的是经济越来越紧张，每到月底都想办法从这张卡套到那张卡，我和老婆经常冷战，偶尔大吵。到 2018 年 12 月底，我本人总共透支了 8 万，没办法，第一次向朋友借几千周转，我知道不能再这样了......</p>\\n<h4>我累了</h4>\\n<p>两年多来，一个人写了 10 多万行代码，绘制 100 多张图，“翻译”了过万行的内容。到现在，我的聊天客服产品还没有完成，但也已基本成型，翻译系统已辅助聊天客服完成国际化多语言，可以暂时放下一段时间了，现在只需找专业的翻译人员对接即可，后期再考虑官网与 API，独立成立另一个国外公司。累了，真的累了，我的累不是体力的累，不是脑力的累，写代码的过程是开心的，遇到问题都能解决，如果这都不能扛下来，我一开始就不会设计成一个人独自走完整个流程，后续还有 Stripe 公司注册、会计、税务等。而是心累，大多数的人只看结果，不会理会你过程的付出，或者作为“看客”。时间久了，就连最亲的人都不信任：</p>\\n<ul>\\n<li>坐了几个小时，累了，去沙发趟会，“怎么这么闲呀？”</li>\\n<li>起身走走，缓解身体压力的时候，“好闲呀！”</li>\\n<li>“这么有空，帮忙搞卫生呀！”</li>\\n<li>“这两年你做了什么，整天闲在家里！”</li>\\n<li>生病那会，咳嗽有时候不是你能控制的，“要咳出去咳，吵着我睡觉啦。”</li>\\n<li>还信用卡那会，“怎么又这么多？”，经常性查帐，而我从不过问她的帐，她是主要收入来源者，我无说话权。</li>\\n<li>她上班那会，“早上是不是偷懒睡觉呀？”，在家待业时，经常自己睡到 11、12 点。</li>\\n<li>玩着手机教小孩做作业，小孩坐姿不端正不去纠正，我无法出声讲她，这样只会带来吵架。</li>\\n<li>......</li>\\n</ul>\\n<p>她也为家庭付出了很多，我只想结束这一切，排除干扰因素，安心地投入到产品开发中，我需要时间，在这时间内结束这一切只有：钱。目前解决钱的问题有两种方法，1、优惠预售，2、融资。现在我优先采用优惠预售，有需求的，可以查看我的优惠活动文章。<strong>我会履行契约，遵守承诺</strong>。</p>\\n<p>------ <a href=\"http://qpchat.com\" rel=\"nofollow\">qpchat.com</a> 创始人: 苏 XX</p>\\n',\n",
       "  'last_modified': 1549199518,\n",
       "  'replies': 122,\n",
       "  'id': 532897},\n",
       " {'node': {'avatar_large': '//cdn.v2ex.com/navatar/70ef/df2e/17_large.png?m=1548114463',\n",
       "   'name': 'create',\n",
       "   'avatar_normal': '//cdn.v2ex.com/navatar/70ef/df2e/17_normal.png?m=1548114463',\n",
       "   'title': '分享创造',\n",
       "   'url': 'https://www.v2ex.com/go/create',\n",
       "   'topics': 11141,\n",
       "   'footer': '',\n",
       "   'header': '欢迎你在这里发布自己的最新作品！',\n",
       "   'title_alternative': 'Create',\n",
       "   'avatar_mini': '//cdn.v2ex.com/navatar/70ef/df2e/17_mini.png?m=1548114463',\n",
       "   'stars': 2780,\n",
       "   'root': False,\n",
       "   'id': 17,\n",
       "   'parent_node_name': 'geek'},\n",
       "  'member': {'username': 'bokchoys',\n",
       "   'website': 'https://www.emin.ink',\n",
       "   'github': '',\n",
       "   'psn': '',\n",
       "   'avatar_normal': '//cdn.v2ex.com/gravatar/ebc6778b3b57fe9b68bf06a4125cf8b1?s=24&d=retro',\n",
       "   'bio': '',\n",
       "   'url': 'https://www.v2ex.com/u/bokchoys',\n",
       "   'tagline': '',\n",
       "   'twitter': '',\n",
       "   'created': 1540515526,\n",
       "   'avatar_large': '//cdn.v2ex.com/gravatar/ebc6778b3b57fe9b68bf06a4125cf8b1?s=24&d=retro',\n",
       "   'avatar_mini': '//cdn.v2ex.com/gravatar/ebc6778b3b57fe9b68bf06a4125cf8b1?s=24&d=retro',\n",
       "   'location': '',\n",
       "   'btc': '',\n",
       "   'id': 358742},\n",
       "  'last_reply_by': 'bokchoys',\n",
       "  'last_touched': 1549257063,\n",
       "  'title': '老爹的铁铺上线，给老爸做个广告，云上铁铺 :)',\n",
       "  'url': 'https://www.v2ex.com/t/532913',\n",
       "  'created': 1549208966,\n",
       "  'content': '新年快乐啦！！！\\r\\n\\r\\n先贴个网址吧:https://www.26fe.cn\\r\\n\\r\\n老爹的铁铺可以做啥:\\r\\n1 需要简单的加工部件的\\r\\n2 没有工厂原因给你的想法加工的\\r\\n3 需要做个铁架子等之类的，就是你身边的铁铺能做到的\\r\\n\\r\\n老爹的铁铺不能做哪些：\\r\\n1 没有好看的上色漆料\\r\\n2 没有激光切割\\r\\n\\r\\n老爹的铁铺里有啥：\\r\\n1 车床（非数控）\\r\\n2 立冲床\\r\\n3 立刨\\r\\n4 电焊机\\r\\n5 刨床\\r\\n6 切割机\\r\\n7 空压机\\r\\n8 卷板机\\r\\n9 洗轴床\\r\\n10 钻床\\r\\n...\\r\\n\\r\\n部分机械的展示:https://www.26fe.cn/machine-show\\r\\n\\r\\n建立这个站点的原因呢，主要想把技术带到家里，打好“脱贫攻坚战”的同时，让老爹的生活更丰富一点。\\r\\n至于更多的牢骚，在 26fe.cn 里面都有提及，目前素材很少，用 wordpress 快速建站。\\r\\n\\r\\n希望 v 友们提点意见，多谢！！！',\n",
       "  'content_rendered': '<p>新年快乐啦！！！</p>\\n<p>先贴个网址吧:<a href=\"https://www.26fe.cn\" rel=\"nofollow\">https://www.26fe.cn</a></p>\\n<p>老爹的铁铺可以做啥:\\n1 需要简单的加工部件的\\n2 没有工厂原因给你的想法加工的\\n3 需要做个铁架子等之类的，就是你身边的铁铺能做到的</p>\\n<p>老爹的铁铺不能做哪些：\\n1 没有好看的上色漆料\\n2 没有激光切割</p>\\n<p>老爹的铁铺里有啥：\\n1 车床（非数控）\\n2 立冲床\\n3 立刨\\n4 电焊机\\n5 刨床\\n6 切割机\\n7 空压机\\n8 卷板机\\n9 洗轴床\\n10 钻床\\n...</p>\\n<p>部分机械的展示:<a href=\"https://www.26fe.cn/machine-show\" rel=\"nofollow\">https://www.26fe.cn/machine-show</a></p>\\n<p>建立这个站点的原因呢，主要想把技术带到家里，打好“脱贫攻坚战”的同时，让老爹的生活更丰富一点。\\n至于更多的牢骚，在 <a href=\"http://26fe.cn\" rel=\"nofollow\">26fe.cn</a> 里面都有提及，目前素材很少，用 wordpress 快速建站。</p>\\n<p>希望 v 友们提点意见，多谢！！！</p>\\n',\n",
       "  'last_modified': 1549208966,\n",
       "  'replies': 66,\n",
       "  'id': 532913},\n",
       " {'node': {'avatar_large': '//cdn.v2ex.com/navatar/6512/bd43/11_large.png?m=1548128252',\n",
       "   'name': 'linux',\n",
       "   'avatar_normal': '//cdn.v2ex.com/navatar/6512/bd43/11_normal.png?m=1548128252',\n",
       "   'title': 'Linux',\n",
       "   'url': 'https://www.v2ex.com/go/linux',\n",
       "   'topics': 4661,\n",
       "   'footer': '',\n",
       "   'header': 'Linux is a Unix-like computer operating system assembled under the model of free and open source software development and distribution.',\n",
       "   'title_alternative': 'Linux',\n",
       "   'avatar_mini': '//cdn.v2ex.com/navatar/6512/bd43/11_mini.png?m=1548128252',\n",
       "   'stars': 4235,\n",
       "   'root': False,\n",
       "   'id': 11,\n",
       "   'parent_node_name': 'os'},\n",
       "  'member': {'username': 'dreamweaver',\n",
       "   'website': None,\n",
       "   'github': None,\n",
       "   'psn': None,\n",
       "   'avatar_normal': '//cdn.v2ex.com/avatar/4144/0929/39986_mini.png?m=1532760162',\n",
       "   'bio': None,\n",
       "   'url': 'https://www.v2ex.com/u/dreamweaver',\n",
       "   'tagline': None,\n",
       "   'twitter': None,\n",
       "   'created': 1370066021,\n",
       "   'avatar_large': '//cdn.v2ex.com/avatar/4144/0929/39986_mini.png?m=1532760162',\n",
       "   'avatar_mini': '//cdn.v2ex.com/avatar/4144/0929/39986_mini.png?m=1532760162',\n",
       "   'location': None,\n",
       "   'btc': None,\n",
       "   'id': 39986},\n",
       "  'last_reply_by': 'NonClockworkChen',\n",
       "  'last_touched': 1549261100,\n",
       "  'title': '给父母电脑装 Linux 有没有大佬试过的讲讲经验',\n",
       "  'url': 'https://www.v2ex.com/t/532869',\n",
       "  'created': 1549191429,\n",
       "  'content': 'windows 下的流氓软件太多了，每次过年回来都是卸卸卸，有没有大佬试过给父母装 linux 的。\\r\\n平常常用的就是电脑微信，然后爱奇艺看电视剧，浏览浏览视频新闻。\\r\\n已有智能机，电脑屏幕大，看字帖方便。',\n",
       "  'content_rendered': '<p>windows 下的流氓软件太多了，每次过年回来都是卸卸卸，有没有大佬试过给父母装 linux 的。\\n平常常用的就是电脑微信，然后爱奇艺看电视剧，浏览浏览视频新闻。\\n已有智能机，电脑屏幕大，看字帖方便。</p>\\n',\n",
       "  'last_modified': 1549195683,\n",
       "  'replies': 64,\n",
       "  'id': 532869},\n",
       " {'node': {'avatar_large': '//cdn.v2ex.com/navatar/698d/51a1/111_large.png?m=1540234578',\n",
       "   'name': 'reading',\n",
       "   'avatar_normal': '//cdn.v2ex.com/navatar/698d/51a1/111_normal.png?m=1540234578',\n",
       "   'title': '阅读',\n",
       "   'url': 'https://www.v2ex.com/go/reading',\n",
       "   'topics': 374,\n",
       "   'footer': '',\n",
       "   'header': '少上网，多读书',\n",
       "   'title_alternative': 'Reading',\n",
       "   'avatar_mini': '//cdn.v2ex.com/navatar/698d/51a1/111_mini.png?m=1540234578',\n",
       "   'stars': 882,\n",
       "   'root': False,\n",
       "   'id': 111,\n",
       "   'parent_node_name': ''},\n",
       "  'member': {'username': 'duvalier',\n",
       "   'website': '',\n",
       "   'github': '',\n",
       "   'psn': '',\n",
       "   'avatar_normal': '//cdn.v2ex.com/avatar/4ea8/0c0d/349468_mini.png?m=1544009040',\n",
       "   'bio': '',\n",
       "   'url': 'https://www.v2ex.com/u/duvalier',\n",
       "   'tagline': '不以物喜，不以己悲。',\n",
       "   'twitter': '',\n",
       "   'created': 1536884837,\n",
       "   'avatar_large': '//cdn.v2ex.com/avatar/4ea8/0c0d/349468_mini.png?m=1544009040',\n",
       "   'avatar_mini': '//cdn.v2ex.com/avatar/4ea8/0c0d/349468_mini.png?m=1544009040',\n",
       "   'location': '',\n",
       "   'btc': '',\n",
       "   'id': 349468},\n",
       "  'last_reply_by': 'valorachen',\n",
       "  'last_touched': 1549261345,\n",
       "  'title': '有什么好看的小说求推荐。',\n",
       "  'url': 'https://www.v2ex.com/t/532887',\n",
       "  'created': 1549196563,\n",
       "  'content': '最好是不用动脑子的那种…',\n",
       "  'content_rendered': '最好是不用动脑子的那种…',\n",
       "  'last_modified': 1549196563,\n",
       "  'replies': 53,\n",
       "  'id': 532887},\n",
       " {'node': {'avatar_large': '//cdn.v2ex.com/navatar/735b/90b4/67_large.png?m=1420808417',\n",
       "   'name': 'taste',\n",
       "   'avatar_normal': '//cdn.v2ex.com/navatar/735b/90b4/67_normal.png?m=1420808417',\n",
       "   'title': '美酒与美食',\n",
       "   'url': 'https://www.v2ex.com/go/taste',\n",
       "   'topics': 399,\n",
       "   'footer': '',\n",
       "   'header': '关于那些好喝和好吃的',\n",
       "   'title_alternative': 'Taste',\n",
       "   'avatar_mini': '//cdn.v2ex.com/navatar/735b/90b4/67_mini.png?m=1420808417',\n",
       "   'stars': 358,\n",
       "   'root': False,\n",
       "   'id': 67,\n",
       "   'parent_node_name': ''},\n",
       "  'member': {'username': 'HeiXiaoBai',\n",
       "   'website': '',\n",
       "   'github': '',\n",
       "   'psn': '',\n",
       "   'avatar_normal': '//cdn.v2ex.com/avatar/1d14/d9e0/339035_mini.png?m=1533619402',\n",
       "   'bio': '',\n",
       "   'url': 'https://www.v2ex.com/u/HeiXiaoBai',\n",
       "   'tagline': '',\n",
       "   'twitter': '',\n",
       "   'created': 1533568310,\n",
       "   'avatar_large': '//cdn.v2ex.com/avatar/1d14/d9e0/339035_mini.png?m=1533619402',\n",
       "   'avatar_mini': '//cdn.v2ex.com/avatar/1d14/d9e0/339035_mini.png?m=1533619402',\n",
       "   'location': '广州',\n",
       "   'btc': '',\n",
       "   'id': 339035},\n",
       "  'last_reply_by': 'YenvY',\n",
       "  'last_touched': 1549260501,\n",
       "  'title': '有没有好吃又容易做的菜推荐？',\n",
       "  'url': 'https://www.v2ex.com/t/532937',\n",
       "  'created': 1549242055,\n",
       "  'content': '厨艺小白，放假在家无聊，想尝试做点好吃的  \\r\\n这两天尝试了糖醋里脊，鱼香肉丝  \\r\\n本来别人推荐了个咖喱牛肉，然而乡下破超市没有卖咖喱╮(╯▽╰)╭  \\r\\n各位 V 友们有什么推荐么',\n",
       "  'content_rendered': '<p>厨艺小白，放假在家无聊，想尝试做点好吃的<br>\\n这两天尝试了糖醋里脊，鱼香肉丝<br>\\n本来别人推荐了个咖喱牛肉，然而乡下破超市没有卖咖喱╮(╯▽╰)╭<br>\\n各位 V 友们有什么推荐么</p>\\n',\n",
       "  'last_modified': 1549242055,\n",
       "  'replies': 48,\n",
       "  'id': 532937},\n",
       " {'node': {'avatar_large': '//cdn.v2ex.com/navatar/6e27/13a6/557_large.png?m=1473710080',\n",
       "   'name': 'life',\n",
       "   'avatar_normal': '//cdn.v2ex.com/navatar/6e27/13a6/557_normal.png?m=1473710080',\n",
       "   'title': '生活',\n",
       "   'url': 'https://www.v2ex.com/go/life',\n",
       "   'topics': 1124,\n",
       "   'footer': None,\n",
       "   'header': None,\n",
       "   'title_alternative': 'Life',\n",
       "   'avatar_mini': '//cdn.v2ex.com/navatar/6e27/13a6/557_mini.png?m=1473710080',\n",
       "   'stars': 233,\n",
       "   'root': False,\n",
       "   'id': 557,\n",
       "   'parent_node_name': None},\n",
       "  'member': {'username': 'xudzhang',\n",
       "   'website': '',\n",
       "   'github': '',\n",
       "   'psn': '',\n",
       "   'avatar_normal': '//cdn.v2ex.com/gravatar/3fb4b192c03feaa14a01941a70576e34?s=24&d=retro',\n",
       "   'bio': '',\n",
       "   'url': 'https://www.v2ex.com/u/xudzhang',\n",
       "   'tagline': '',\n",
       "   'twitter': '',\n",
       "   'created': 1482735135,\n",
       "   'avatar_large': '//cdn.v2ex.com/gravatar/3fb4b192c03feaa14a01941a70576e34?s=24&d=retro',\n",
       "   'avatar_mini': '//cdn.v2ex.com/gravatar/3fb4b192c03feaa14a01941a70576e34?s=24&d=retro',\n",
       "   'location': '',\n",
       "   'btc': '',\n",
       "   'id': 207675},\n",
       "  'last_reply_by': 'ClutchBear',\n",
       "  'last_touched': 1549259728,\n",
       "  'title': '各位小伙伴家那里还能燃放烟花爆竹么？',\n",
       "  'url': 'https://www.v2ex.com/t/532935',\n",
       "  'created': 1549239816,\n",
       "  'content': '感觉现在的年味好淡啊，还是小时候那会有意思……',\n",
       "  'content_rendered': '<p>感觉现在的年味好淡啊，还是小时候那会有意思……</p>\\n',\n",
       "  'last_modified': 1549239816,\n",
       "  'replies': 42,\n",
       "  'id': 532935},\n",
       " {'node': {'avatar_large': '//cdn.v2ex.com/navatar/c20a/d4d7/12_large.png?m=1548929575',\n",
       "   'name': 'qna',\n",
       "   'avatar_normal': '//cdn.v2ex.com/navatar/c20a/d4d7/12_normal.png?m=1548929575',\n",
       "   'title': '问与答',\n",
       "   'url': 'https://www.v2ex.com/go/qna',\n",
       "   'topics': 125445,\n",
       "   'footer': '',\n",
       "   'header': '一个更好的世界需要你持续地提出好问题。',\n",
       "   'title_alternative': 'Questions and Answers',\n",
       "   'avatar_mini': '//cdn.v2ex.com/navatar/c20a/d4d7/12_mini.png?m=1548929575',\n",
       "   'stars': 2283,\n",
       "   'root': False,\n",
       "   'id': 12,\n",
       "   'parent_node_name': 'v2ex'},\n",
       "  'member': {'username': 'bbq777aass',\n",
       "   'website': '',\n",
       "   'github': '',\n",
       "   'psn': '',\n",
       "   'avatar_normal': '//cdn.v2ex.com/gravatar/26269f15112af7fa37e53030929c0f4e?s=24&d=retro',\n",
       "   'bio': '',\n",
       "   'url': 'https://www.v2ex.com/u/bbq777aass',\n",
       "   'tagline': '',\n",
       "   'twitter': '',\n",
       "   'created': 1427948684,\n",
       "   'avatar_large': '//cdn.v2ex.com/gravatar/26269f15112af7fa37e53030929c0f4e?s=24&d=retro',\n",
       "   'avatar_mini': '//cdn.v2ex.com/gravatar/26269f15112af7fa37e53030929c0f4e?s=24&d=retro',\n",
       "   'location': '',\n",
       "   'btc': '',\n",
       "   'id': 108710},\n",
       "  'last_reply_by': 'bbq777aass',\n",
       "  'last_touched': 1549168406,\n",
       "  'title': '腾讯是怎么知道我的帐号密码的？',\n",
       "  'url': 'https://www.v2ex.com/t/532934',\n",
       "  'created': 1549239220,\n",
       "  'content': '刚刚在小米手机(已 root)安装了腾讯微视 app\\r\\n(play 版)，登录界面显示二个选择\\r\\n：微信登录和 QQ 登录，尝试点了 QQ 登录，没想到竟然不用填帐号密码，登录成功了！~~\\r\\n\\r\\n问题是：登录前没有给微视 app 任何权限，包括读写 sd 卡的权限，并且这个 QQ 号在这个手机上只用来登录过拼多多，并且拼多多、微信 、手机 QQ(另外一个 QQ 号)均已被冻结，那么腾讯是如何做到不经我的选择与同意，直接就获得了我的帐号密码 ？它是怎么读取手机中的私密数据的？\\r\\n有点可怕！',\n",
       "  'content_rendered': '刚刚在小米手机(已 root)安装了腾讯微视 app<br />(play 版)，登录界面显示二个选择<br />：微信登录和 QQ 登录，尝试点了 QQ 登录，没想到竟然不用填帐号密码，登录成功了！~~<br /><br />问题是：登录前没有给微视 app 任何权限，包括读写 sd 卡的权限，并且这个 QQ 号在这个手机上只用来登录过拼多多，并且拼多多、微信 、手机 QQ(另外一个 QQ 号)均已被冻结，那么腾讯是如何做到不经我的选择与同意，直接就获得了我的帐号密码 ？它是怎么读取手机中的私密数据的？<br />有点可怕！',\n",
       "  'last_modified': 1549239220,\n",
       "  'replies': 40,\n",
       "  'id': 532934},\n",
       " {'node': {'avatar_large': '//cdn.v2ex.com/navatar/a87f/f679/4_large.png?m=1433959296',\n",
       "   'name': 'music',\n",
       "   'avatar_normal': '//cdn.v2ex.com/navatar/a87f/f679/4_normal.png?m=1433959296',\n",
       "   'title': '音乐',\n",
       "   'url': 'https://www.v2ex.com/go/music',\n",
       "   'topics': 1122,\n",
       "   'footer': '',\n",
       "   'header': 'Music is an art form whose medium is sound and silence.',\n",
       "   'title_alternative': 'Music',\n",
       "   'avatar_mini': '//cdn.v2ex.com/navatar/a87f/f679/4_mini.png?m=1433959296',\n",
       "   'stars': 965,\n",
       "   'root': False,\n",
       "   'id': 4,\n",
       "   'parent_node_name': ''},\n",
       "  'member': {'username': 'kejipa',\n",
       "   'website': None,\n",
       "   'github': None,\n",
       "   'psn': None,\n",
       "   'avatar_normal': '//cdn.v2ex.com/gravatar/61136a29105a4207404cd2fde71184ff?s=24&d=retro',\n",
       "   'bio': None,\n",
       "   'url': 'https://www.v2ex.com/u/kejipa',\n",
       "   'tagline': None,\n",
       "   'twitter': None,\n",
       "   'created': 1544248433,\n",
       "   'avatar_large': '//cdn.v2ex.com/gravatar/61136a29105a4207404cd2fde71184ff?s=24&d=retro',\n",
       "   'avatar_mini': '//cdn.v2ex.com/gravatar/61136a29105a4207404cd2fde71184ff?s=24&d=retro',\n",
       "   'location': None,\n",
       "   'btc': None,\n",
       "   'id': 368980},\n",
       "  'last_reply_by': 'Love4Taylor',\n",
       "  'last_touched': 1549259402,\n",
       "  'title': '之前建的纯音乐群氛围真的很好 另外网易云音乐最多， spotify 分享的甚至超过 QQ 音乐虾米酷狗根本没有',\n",
       "  'url': 'https://www.v2ex.com/t/532908',\n",
       "  'created': 1549203712,\n",
       "  'content': '喜欢音乐的人果然都不错\\n都很谦和\\n\\n\\n大家有的聊聊生活 发发网易云音乐分享\\n就这么简单\\n很喜欢这样的氛围\\n如果你也想简单的爱上音乐\\n加 v bigsuguo 进音乐交流微信群 目前还没有 QQ 群 各位觉得有建 QQ 群必要么\\ntg 群的话 https://t.me/pixelcn\\n进群后自觉分享你最近听到的音乐哦 谢谢',\n",
       "  'content_rendered': '<p>喜欢音乐的人果然都不错\\n都很谦和</p>\\n<p>大家有的聊聊生活 发发网易云音乐分享\\n就这么简单\\n很喜欢这样的氛围\\n如果你也想简单的爱上音乐\\n加 v bigsuguo 进音乐交流微信群 目前还没有 QQ 群 各位觉得有建 QQ 群必要么\\ntg 群的话 <a href=\"https://t.me/pixelcn\" rel=\"nofollow\">https://t.me/pixelcn</a>\\n进群后自觉分享你最近听到的音乐哦 谢谢</p>\\n',\n",
       "  'last_modified': 1549203712,\n",
       "  'replies': 38,\n",
       "  'id': 532908},\n",
       " {'node': {'avatar_large': '//cdn.v2ex.com/navatar/a3c6/5c29/108_large.png?m=1548929556',\n",
       "   'name': 'bb',\n",
       "   'avatar_normal': '//cdn.v2ex.com/navatar/a3c6/5c29/108_normal.png?m=1548929556',\n",
       "   'title': '宽带症候群',\n",
       "   'url': 'https://www.v2ex.com/go/bb',\n",
       "   'topics': 5644,\n",
       "   'footer': '',\n",
       "   'header': '网速很重要。比快更快。',\n",
       "   'title_alternative': 'Broadband Symptom Complex',\n",
       "   'avatar_mini': '//cdn.v2ex.com/navatar/a3c6/5c29/108_mini.png?m=1548929556',\n",
       "   'stars': 3085,\n",
       "   'root': False,\n",
       "   'id': 108,\n",
       "   'parent_node_name': 'geek'},\n",
       "  'member': {'username': 'lhx2008',\n",
       "   'website': 'https://luan.ma',\n",
       "   'github': 'xenv',\n",
       "   'psn': '',\n",
       "   'avatar_normal': '//cdn.v2ex.com/avatar/08bc/6a3c/36101_mini.png?m=1372949515',\n",
       "   'bio': '今日诗词API https://www.jinrishici.com',\n",
       "   'url': 'https://www.v2ex.com/u/lhx2008',\n",
       "   'tagline': '',\n",
       "   'twitter': '',\n",
       "   'created': 1363604552,\n",
       "   'avatar_large': '//cdn.v2ex.com/avatar/08bc/6a3c/36101_mini.png?m=1372949515',\n",
       "   'avatar_mini': '//cdn.v2ex.com/avatar/08bc/6a3c/36101_mini.png?m=1372949515',\n",
       "   'location': '深圳',\n",
       "   'btc': '',\n",
       "   'id': 36101},\n",
       "  'last_reply_by': 'xxgirl2',\n",
       "  'last_touched': 1549251273,\n",
       "  'title': '移动网络真的是每况愈下，特别是 4G',\n",
       "  'url': 'https://www.v2ex.com/t/532872',\n",
       "  'created': 1549192485,\n",
       "  'content': '回六线城市，没宽带，电脑用移动 4G 上网，信号满格。\\r\\n\\r\\n大网站各种图标加载不出，游戏卡爆，各种外国线路抽风，冷门国家的网站 ping 直接上千，微信 QQ 视频聊天都卡成狗，测速有几十 M，但是建联、DNS 速度都扑街，还有一定几率间歇被 ban，被 ban 所有国外网站都访问不了，重启手机网络连接恢复正常。还有墙中墙就不吐槽了。',\n",
       "  'content_rendered': '回六线城市，没宽带，电脑用移动 4G 上网，信号满格。<br /><br />大网站各种图标加载不出，游戏卡爆，各种外国线路抽风，冷门国家的网站 ping 直接上千，微信 QQ 视频聊天都卡成狗，测速有几十 M，但是建联、DNS 速度都扑街，还有一定几率间歇被 ban，被 ban 所有国外网站都访问不了，重启手机网络连接恢复正常。还有墙中墙就不吐槽了。',\n",
       "  'last_modified': 1549192652,\n",
       "  'replies': 35,\n",
       "  'id': 532872}]"
      ]
     },
     "execution_count": 37,
     "metadata": {},
     "output_type": "execute_result"
    }
   ],
   "source": [
    "r = requests.get('https://www.v2ex.com/api/topics/hot.json')\n",
    "r.json()"
   ]
  },
  {
   "cell_type": "markdown",
   "metadata": {},
   "source": [
    "### 代理设置"
   ]
  },
  {
   "cell_type": "code",
   "execution_count": 46,
   "metadata": {},
   "outputs": [
    {
     "name": "stdout",
     "output_type": "stream",
     "text": [
      "110.52.235.17\n",
      "\n"
     ]
    }
   ],
   "source": [
    "import requests\n",
    "proxies = {\n",
    "  'http': '110.52.235.17:9999',\n",
    "  'https': '14.20.235.106:9797'\n",
    "}\n",
    "\n",
    "data = requests.get('http://icanhazip.com', proxies=proxies)\n",
    "print(data.text)"
   ]
  },
  {
   "cell_type": "markdown",
   "metadata": {},
   "source": [
    "### 超时设置"
   ]
  },
  {
   "cell_type": "code",
   "execution_count": 55,
   "metadata": {},
   "outputs": [
    {
     "ename": "ConnectTimeout",
     "evalue": "HTTPConnectionPool(host='www.google.com', port=80): Max retries exceeded with url: / (Caused by ConnectTimeoutError(<urllib3.connection.HTTPConnection object at 0x00000000054107B8>, 'Connection to www.google.com timed out. (connect timeout=5)'))",
     "output_type": "error",
     "traceback": [
      "\u001b[1;31m---------------------------------------------------------------------------\u001b[0m",
      "\u001b[1;31mtimeout\u001b[0m                                   Traceback (most recent call last)",
      "\u001b[1;32mD:\\Software\\Anaconda\\lib\\site-packages\\urllib3\\connection.py\u001b[0m in \u001b[0;36m_new_conn\u001b[1;34m(self)\u001b[0m\n\u001b[0;32m    140\u001b[0m             conn = connection.create_connection(\n\u001b[1;32m--> 141\u001b[1;33m                 (self.host, self.port), self.timeout, **extra_kw)\n\u001b[0m\u001b[0;32m    142\u001b[0m \u001b[1;33m\u001b[0m\u001b[0m\n",
      "\u001b[1;32mD:\\Software\\Anaconda\\lib\\site-packages\\urllib3\\util\\connection.py\u001b[0m in \u001b[0;36mcreate_connection\u001b[1;34m(address, timeout, source_address, socket_options)\u001b[0m\n\u001b[0;32m     82\u001b[0m     \u001b[1;32mif\u001b[0m \u001b[0merr\u001b[0m \u001b[1;32mis\u001b[0m \u001b[1;32mnot\u001b[0m \u001b[1;32mNone\u001b[0m\u001b[1;33m:\u001b[0m\u001b[1;33m\u001b[0m\u001b[0m\n\u001b[1;32m---> 83\u001b[1;33m         \u001b[1;32mraise\u001b[0m \u001b[0merr\u001b[0m\u001b[1;33m\u001b[0m\u001b[0m\n\u001b[0m\u001b[0;32m     84\u001b[0m \u001b[1;33m\u001b[0m\u001b[0m\n",
      "\u001b[1;32mD:\\Software\\Anaconda\\lib\\site-packages\\urllib3\\util\\connection.py\u001b[0m in \u001b[0;36mcreate_connection\u001b[1;34m(address, timeout, source_address, socket_options)\u001b[0m\n\u001b[0;32m     72\u001b[0m                 \u001b[0msock\u001b[0m\u001b[1;33m.\u001b[0m\u001b[0mbind\u001b[0m\u001b[1;33m(\u001b[0m\u001b[0msource_address\u001b[0m\u001b[1;33m)\u001b[0m\u001b[1;33m\u001b[0m\u001b[0m\n\u001b[1;32m---> 73\u001b[1;33m             \u001b[0msock\u001b[0m\u001b[1;33m.\u001b[0m\u001b[0mconnect\u001b[0m\u001b[1;33m(\u001b[0m\u001b[0msa\u001b[0m\u001b[1;33m)\u001b[0m\u001b[1;33m\u001b[0m\u001b[0m\n\u001b[0m\u001b[0;32m     74\u001b[0m             \u001b[1;32mreturn\u001b[0m \u001b[0msock\u001b[0m\u001b[1;33m\u001b[0m\u001b[0m\n",
      "\u001b[1;31mtimeout\u001b[0m: timed out",
      "\nDuring handling of the above exception, another exception occurred:\n",
      "\u001b[1;31mConnectTimeoutError\u001b[0m                       Traceback (most recent call last)",
      "\u001b[1;32mD:\\Software\\Anaconda\\lib\\site-packages\\urllib3\\connectionpool.py\u001b[0m in \u001b[0;36murlopen\u001b[1;34m(self, method, url, body, headers, retries, redirect, assert_same_host, timeout, pool_timeout, release_conn, chunked, body_pos, **response_kw)\u001b[0m\n\u001b[0;32m    600\u001b[0m                                                   \u001b[0mbody\u001b[0m\u001b[1;33m=\u001b[0m\u001b[0mbody\u001b[0m\u001b[1;33m,\u001b[0m \u001b[0mheaders\u001b[0m\u001b[1;33m=\u001b[0m\u001b[0mheaders\u001b[0m\u001b[1;33m,\u001b[0m\u001b[1;33m\u001b[0m\u001b[0m\n\u001b[1;32m--> 601\u001b[1;33m                                                   chunked=chunked)\n\u001b[0m\u001b[0;32m    602\u001b[0m \u001b[1;33m\u001b[0m\u001b[0m\n",
      "\u001b[1;32mD:\\Software\\Anaconda\\lib\\site-packages\\urllib3\\connectionpool.py\u001b[0m in \u001b[0;36m_make_request\u001b[1;34m(self, conn, method, url, timeout, chunked, **httplib_request_kw)\u001b[0m\n\u001b[0;32m    356\u001b[0m         \u001b[1;32melse\u001b[0m\u001b[1;33m:\u001b[0m\u001b[1;33m\u001b[0m\u001b[0m\n\u001b[1;32m--> 357\u001b[1;33m             \u001b[0mconn\u001b[0m\u001b[1;33m.\u001b[0m\u001b[0mrequest\u001b[0m\u001b[1;33m(\u001b[0m\u001b[0mmethod\u001b[0m\u001b[1;33m,\u001b[0m \u001b[0murl\u001b[0m\u001b[1;33m,\u001b[0m \u001b[1;33m**\u001b[0m\u001b[0mhttplib_request_kw\u001b[0m\u001b[1;33m)\u001b[0m\u001b[1;33m\u001b[0m\u001b[0m\n\u001b[0m\u001b[0;32m    358\u001b[0m \u001b[1;33m\u001b[0m\u001b[0m\n",
      "\u001b[1;32mD:\\Software\\Anaconda\\lib\\http\\client.py\u001b[0m in \u001b[0;36mrequest\u001b[1;34m(self, method, url, body, headers, encode_chunked)\u001b[0m\n\u001b[0;32m   1238\u001b[0m         \u001b[1;34m\"\"\"Send a complete request to the server.\"\"\"\u001b[0m\u001b[1;33m\u001b[0m\u001b[0m\n\u001b[1;32m-> 1239\u001b[1;33m         \u001b[0mself\u001b[0m\u001b[1;33m.\u001b[0m\u001b[0m_send_request\u001b[0m\u001b[1;33m(\u001b[0m\u001b[0mmethod\u001b[0m\u001b[1;33m,\u001b[0m \u001b[0murl\u001b[0m\u001b[1;33m,\u001b[0m \u001b[0mbody\u001b[0m\u001b[1;33m,\u001b[0m \u001b[0mheaders\u001b[0m\u001b[1;33m,\u001b[0m \u001b[0mencode_chunked\u001b[0m\u001b[1;33m)\u001b[0m\u001b[1;33m\u001b[0m\u001b[0m\n\u001b[0m\u001b[0;32m   1240\u001b[0m \u001b[1;33m\u001b[0m\u001b[0m\n",
      "\u001b[1;32mD:\\Software\\Anaconda\\lib\\http\\client.py\u001b[0m in \u001b[0;36m_send_request\u001b[1;34m(self, method, url, body, headers, encode_chunked)\u001b[0m\n\u001b[0;32m   1284\u001b[0m             \u001b[0mbody\u001b[0m \u001b[1;33m=\u001b[0m \u001b[0m_encode\u001b[0m\u001b[1;33m(\u001b[0m\u001b[0mbody\u001b[0m\u001b[1;33m,\u001b[0m \u001b[1;34m'body'\u001b[0m\u001b[1;33m)\u001b[0m\u001b[1;33m\u001b[0m\u001b[0m\n\u001b[1;32m-> 1285\u001b[1;33m         \u001b[0mself\u001b[0m\u001b[1;33m.\u001b[0m\u001b[0mendheaders\u001b[0m\u001b[1;33m(\u001b[0m\u001b[0mbody\u001b[0m\u001b[1;33m,\u001b[0m \u001b[0mencode_chunked\u001b[0m\u001b[1;33m=\u001b[0m\u001b[0mencode_chunked\u001b[0m\u001b[1;33m)\u001b[0m\u001b[1;33m\u001b[0m\u001b[0m\n\u001b[0m\u001b[0;32m   1286\u001b[0m \u001b[1;33m\u001b[0m\u001b[0m\n",
      "\u001b[1;32mD:\\Software\\Anaconda\\lib\\http\\client.py\u001b[0m in \u001b[0;36mendheaders\u001b[1;34m(self, message_body, encode_chunked)\u001b[0m\n\u001b[0;32m   1233\u001b[0m             \u001b[1;32mraise\u001b[0m \u001b[0mCannotSendHeader\u001b[0m\u001b[1;33m(\u001b[0m\u001b[1;33m)\u001b[0m\u001b[1;33m\u001b[0m\u001b[0m\n\u001b[1;32m-> 1234\u001b[1;33m         \u001b[0mself\u001b[0m\u001b[1;33m.\u001b[0m\u001b[0m_send_output\u001b[0m\u001b[1;33m(\u001b[0m\u001b[0mmessage_body\u001b[0m\u001b[1;33m,\u001b[0m \u001b[0mencode_chunked\u001b[0m\u001b[1;33m=\u001b[0m\u001b[0mencode_chunked\u001b[0m\u001b[1;33m)\u001b[0m\u001b[1;33m\u001b[0m\u001b[0m\n\u001b[0m\u001b[0;32m   1235\u001b[0m \u001b[1;33m\u001b[0m\u001b[0m\n",
      "\u001b[1;32mD:\\Software\\Anaconda\\lib\\http\\client.py\u001b[0m in \u001b[0;36m_send_output\u001b[1;34m(self, message_body, encode_chunked)\u001b[0m\n\u001b[0;32m   1025\u001b[0m         \u001b[1;32mdel\u001b[0m \u001b[0mself\u001b[0m\u001b[1;33m.\u001b[0m\u001b[0m_buffer\u001b[0m\u001b[1;33m[\u001b[0m\u001b[1;33m:\u001b[0m\u001b[1;33m]\u001b[0m\u001b[1;33m\u001b[0m\u001b[0m\n\u001b[1;32m-> 1026\u001b[1;33m         \u001b[0mself\u001b[0m\u001b[1;33m.\u001b[0m\u001b[0msend\u001b[0m\u001b[1;33m(\u001b[0m\u001b[0mmsg\u001b[0m\u001b[1;33m)\u001b[0m\u001b[1;33m\u001b[0m\u001b[0m\n\u001b[0m\u001b[0;32m   1027\u001b[0m \u001b[1;33m\u001b[0m\u001b[0m\n",
      "\u001b[1;32mD:\\Software\\Anaconda\\lib\\http\\client.py\u001b[0m in \u001b[0;36msend\u001b[1;34m(self, data)\u001b[0m\n\u001b[0;32m    963\u001b[0m             \u001b[1;32mif\u001b[0m \u001b[0mself\u001b[0m\u001b[1;33m.\u001b[0m\u001b[0mauto_open\u001b[0m\u001b[1;33m:\u001b[0m\u001b[1;33m\u001b[0m\u001b[0m\n\u001b[1;32m--> 964\u001b[1;33m                 \u001b[0mself\u001b[0m\u001b[1;33m.\u001b[0m\u001b[0mconnect\u001b[0m\u001b[1;33m(\u001b[0m\u001b[1;33m)\u001b[0m\u001b[1;33m\u001b[0m\u001b[0m\n\u001b[0m\u001b[0;32m    965\u001b[0m             \u001b[1;32melse\u001b[0m\u001b[1;33m:\u001b[0m\u001b[1;33m\u001b[0m\u001b[0m\n",
      "\u001b[1;32mD:\\Software\\Anaconda\\lib\\site-packages\\urllib3\\connection.py\u001b[0m in \u001b[0;36mconnect\u001b[1;34m(self)\u001b[0m\n\u001b[0;32m    165\u001b[0m     \u001b[1;32mdef\u001b[0m \u001b[0mconnect\u001b[0m\u001b[1;33m(\u001b[0m\u001b[0mself\u001b[0m\u001b[1;33m)\u001b[0m\u001b[1;33m:\u001b[0m\u001b[1;33m\u001b[0m\u001b[0m\n\u001b[1;32m--> 166\u001b[1;33m         \u001b[0mconn\u001b[0m \u001b[1;33m=\u001b[0m \u001b[0mself\u001b[0m\u001b[1;33m.\u001b[0m\u001b[0m_new_conn\u001b[0m\u001b[1;33m(\u001b[0m\u001b[1;33m)\u001b[0m\u001b[1;33m\u001b[0m\u001b[0m\n\u001b[0m\u001b[0;32m    167\u001b[0m         \u001b[0mself\u001b[0m\u001b[1;33m.\u001b[0m\u001b[0m_prepare_conn\u001b[0m\u001b[1;33m(\u001b[0m\u001b[0mconn\u001b[0m\u001b[1;33m)\u001b[0m\u001b[1;33m\u001b[0m\u001b[0m\n",
      "\u001b[1;32mD:\\Software\\Anaconda\\lib\\site-packages\\urllib3\\connection.py\u001b[0m in \u001b[0;36m_new_conn\u001b[1;34m(self)\u001b[0m\n\u001b[0;32m    145\u001b[0m                 \u001b[0mself\u001b[0m\u001b[1;33m,\u001b[0m \u001b[1;34m\"Connection to %s timed out. (connect timeout=%s)\"\u001b[0m \u001b[1;33m%\u001b[0m\u001b[1;33m\u001b[0m\u001b[0m\n\u001b[1;32m--> 146\u001b[1;33m                 (self.host, self.timeout))\n\u001b[0m\u001b[0;32m    147\u001b[0m \u001b[1;33m\u001b[0m\u001b[0m\n",
      "\u001b[1;31mConnectTimeoutError\u001b[0m: (<urllib3.connection.HTTPConnection object at 0x00000000054107B8>, 'Connection to www.google.com timed out. (connect timeout=5)')",
      "\nDuring handling of the above exception, another exception occurred:\n",
      "\u001b[1;31mMaxRetryError\u001b[0m                             Traceback (most recent call last)",
      "\u001b[1;32mD:\\Software\\Anaconda\\lib\\site-packages\\requests\\adapters.py\u001b[0m in \u001b[0;36msend\u001b[1;34m(self, request, stream, timeout, verify, cert, proxies)\u001b[0m\n\u001b[0;32m    439\u001b[0m                     \u001b[0mretries\u001b[0m\u001b[1;33m=\u001b[0m\u001b[0mself\u001b[0m\u001b[1;33m.\u001b[0m\u001b[0mmax_retries\u001b[0m\u001b[1;33m,\u001b[0m\u001b[1;33m\u001b[0m\u001b[0m\n\u001b[1;32m--> 440\u001b[1;33m                     \u001b[0mtimeout\u001b[0m\u001b[1;33m=\u001b[0m\u001b[0mtimeout\u001b[0m\u001b[1;33m\u001b[0m\u001b[0m\n\u001b[0m\u001b[0;32m    441\u001b[0m                 )\n",
      "\u001b[1;32mD:\\Software\\Anaconda\\lib\\site-packages\\urllib3\\connectionpool.py\u001b[0m in \u001b[0;36murlopen\u001b[1;34m(self, method, url, body, headers, retries, redirect, assert_same_host, timeout, pool_timeout, release_conn, chunked, body_pos, **response_kw)\u001b[0m\n\u001b[0;32m    638\u001b[0m             retries = retries.increment(method, url, error=e, _pool=self,\n\u001b[1;32m--> 639\u001b[1;33m                                         _stacktrace=sys.exc_info()[2])\n\u001b[0m\u001b[0;32m    640\u001b[0m             \u001b[0mretries\u001b[0m\u001b[1;33m.\u001b[0m\u001b[0msleep\u001b[0m\u001b[1;33m(\u001b[0m\u001b[1;33m)\u001b[0m\u001b[1;33m\u001b[0m\u001b[0m\n",
      "\u001b[1;32mD:\\Software\\Anaconda\\lib\\site-packages\\urllib3\\util\\retry.py\u001b[0m in \u001b[0;36mincrement\u001b[1;34m(self, method, url, response, error, _pool, _stacktrace)\u001b[0m\n\u001b[0;32m    387\u001b[0m         \u001b[1;32mif\u001b[0m \u001b[0mnew_retry\u001b[0m\u001b[1;33m.\u001b[0m\u001b[0mis_exhausted\u001b[0m\u001b[1;33m(\u001b[0m\u001b[1;33m)\u001b[0m\u001b[1;33m:\u001b[0m\u001b[1;33m\u001b[0m\u001b[0m\n\u001b[1;32m--> 388\u001b[1;33m             \u001b[1;32mraise\u001b[0m \u001b[0mMaxRetryError\u001b[0m\u001b[1;33m(\u001b[0m\u001b[0m_pool\u001b[0m\u001b[1;33m,\u001b[0m \u001b[0murl\u001b[0m\u001b[1;33m,\u001b[0m \u001b[0merror\u001b[0m \u001b[1;32mor\u001b[0m \u001b[0mResponseError\u001b[0m\u001b[1;33m(\u001b[0m\u001b[0mcause\u001b[0m\u001b[1;33m)\u001b[0m\u001b[1;33m)\u001b[0m\u001b[1;33m\u001b[0m\u001b[0m\n\u001b[0m\u001b[0;32m    389\u001b[0m \u001b[1;33m\u001b[0m\u001b[0m\n",
      "\u001b[1;31mMaxRetryError\u001b[0m: HTTPConnectionPool(host='www.google.com', port=80): Max retries exceeded with url: / (Caused by ConnectTimeoutError(<urllib3.connection.HTTPConnection object at 0x00000000054107B8>, 'Connection to www.google.com timed out. (connect timeout=5)'))",
      "\nDuring handling of the above exception, another exception occurred:\n",
      "\u001b[1;31mConnectTimeout\u001b[0m                            Traceback (most recent call last)",
      "\u001b[1;32m<ipython-input-55-2613100e8f3b>\u001b[0m in \u001b[0;36m<module>\u001b[1;34m()\u001b[0m\n\u001b[0;32m      1\u001b[0m \u001b[1;32mimport\u001b[0m \u001b[0mrequests\u001b[0m\u001b[1;33m\u001b[0m\u001b[0m\n\u001b[1;32m----> 2\u001b[1;33m \u001b[0mr\u001b[0m \u001b[1;33m=\u001b[0m \u001b[0mrequests\u001b[0m\u001b[1;33m.\u001b[0m\u001b[0mget\u001b[0m\u001b[1;33m(\u001b[0m\u001b[1;34m\"http://www.google.com\"\u001b[0m\u001b[1;33m,\u001b[0m\u001b[0mtimeout\u001b[0m\u001b[1;33m=\u001b[0m\u001b[1;36m5\u001b[0m\u001b[1;33m)\u001b[0m\u001b[1;33m\u001b[0m\u001b[0m\n\u001b[0m",
      "\u001b[1;32mD:\\Software\\Anaconda\\lib\\site-packages\\requests\\api.py\u001b[0m in \u001b[0;36mget\u001b[1;34m(url, params, **kwargs)\u001b[0m\n\u001b[0;32m     70\u001b[0m \u001b[1;33m\u001b[0m\u001b[0m\n\u001b[0;32m     71\u001b[0m     \u001b[0mkwargs\u001b[0m\u001b[1;33m.\u001b[0m\u001b[0msetdefault\u001b[0m\u001b[1;33m(\u001b[0m\u001b[1;34m'allow_redirects'\u001b[0m\u001b[1;33m,\u001b[0m \u001b[1;32mTrue\u001b[0m\u001b[1;33m)\u001b[0m\u001b[1;33m\u001b[0m\u001b[0m\n\u001b[1;32m---> 72\u001b[1;33m     \u001b[1;32mreturn\u001b[0m \u001b[0mrequest\u001b[0m\u001b[1;33m(\u001b[0m\u001b[1;34m'get'\u001b[0m\u001b[1;33m,\u001b[0m \u001b[0murl\u001b[0m\u001b[1;33m,\u001b[0m \u001b[0mparams\u001b[0m\u001b[1;33m=\u001b[0m\u001b[0mparams\u001b[0m\u001b[1;33m,\u001b[0m \u001b[1;33m**\u001b[0m\u001b[0mkwargs\u001b[0m\u001b[1;33m)\u001b[0m\u001b[1;33m\u001b[0m\u001b[0m\n\u001b[0m\u001b[0;32m     73\u001b[0m \u001b[1;33m\u001b[0m\u001b[0m\n\u001b[0;32m     74\u001b[0m \u001b[1;33m\u001b[0m\u001b[0m\n",
      "\u001b[1;32mD:\\Software\\Anaconda\\lib\\site-packages\\requests\\api.py\u001b[0m in \u001b[0;36mrequest\u001b[1;34m(method, url, **kwargs)\u001b[0m\n\u001b[0;32m     56\u001b[0m     \u001b[1;31m# cases, and look like a memory leak in others.\u001b[0m\u001b[1;33m\u001b[0m\u001b[1;33m\u001b[0m\u001b[0m\n\u001b[0;32m     57\u001b[0m     \u001b[1;32mwith\u001b[0m \u001b[0msessions\u001b[0m\u001b[1;33m.\u001b[0m\u001b[0mSession\u001b[0m\u001b[1;33m(\u001b[0m\u001b[1;33m)\u001b[0m \u001b[1;32mas\u001b[0m \u001b[0msession\u001b[0m\u001b[1;33m:\u001b[0m\u001b[1;33m\u001b[0m\u001b[0m\n\u001b[1;32m---> 58\u001b[1;33m         \u001b[1;32mreturn\u001b[0m \u001b[0msession\u001b[0m\u001b[1;33m.\u001b[0m\u001b[0mrequest\u001b[0m\u001b[1;33m(\u001b[0m\u001b[0mmethod\u001b[0m\u001b[1;33m=\u001b[0m\u001b[0mmethod\u001b[0m\u001b[1;33m,\u001b[0m \u001b[0murl\u001b[0m\u001b[1;33m=\u001b[0m\u001b[0murl\u001b[0m\u001b[1;33m,\u001b[0m \u001b[1;33m**\u001b[0m\u001b[0mkwargs\u001b[0m\u001b[1;33m)\u001b[0m\u001b[1;33m\u001b[0m\u001b[0m\n\u001b[0m\u001b[0;32m     59\u001b[0m \u001b[1;33m\u001b[0m\u001b[0m\n\u001b[0;32m     60\u001b[0m \u001b[1;33m\u001b[0m\u001b[0m\n",
      "\u001b[1;32mD:\\Software\\Anaconda\\lib\\site-packages\\requests\\sessions.py\u001b[0m in \u001b[0;36mrequest\u001b[1;34m(self, method, url, params, data, headers, cookies, files, auth, timeout, allow_redirects, proxies, hooks, stream, verify, cert, json)\u001b[0m\n\u001b[0;32m    506\u001b[0m         }\n\u001b[0;32m    507\u001b[0m         \u001b[0msend_kwargs\u001b[0m\u001b[1;33m.\u001b[0m\u001b[0mupdate\u001b[0m\u001b[1;33m(\u001b[0m\u001b[0msettings\u001b[0m\u001b[1;33m)\u001b[0m\u001b[1;33m\u001b[0m\u001b[0m\n\u001b[1;32m--> 508\u001b[1;33m         \u001b[0mresp\u001b[0m \u001b[1;33m=\u001b[0m \u001b[0mself\u001b[0m\u001b[1;33m.\u001b[0m\u001b[0msend\u001b[0m\u001b[1;33m(\u001b[0m\u001b[0mprep\u001b[0m\u001b[1;33m,\u001b[0m \u001b[1;33m**\u001b[0m\u001b[0msend_kwargs\u001b[0m\u001b[1;33m)\u001b[0m\u001b[1;33m\u001b[0m\u001b[0m\n\u001b[0m\u001b[0;32m    509\u001b[0m \u001b[1;33m\u001b[0m\u001b[0m\n\u001b[0;32m    510\u001b[0m         \u001b[1;32mreturn\u001b[0m \u001b[0mresp\u001b[0m\u001b[1;33m\u001b[0m\u001b[0m\n",
      "\u001b[1;32mD:\\Software\\Anaconda\\lib\\site-packages\\requests\\sessions.py\u001b[0m in \u001b[0;36msend\u001b[1;34m(self, request, **kwargs)\u001b[0m\n\u001b[0;32m    616\u001b[0m \u001b[1;33m\u001b[0m\u001b[0m\n\u001b[0;32m    617\u001b[0m         \u001b[1;31m# Send the request\u001b[0m\u001b[1;33m\u001b[0m\u001b[1;33m\u001b[0m\u001b[0m\n\u001b[1;32m--> 618\u001b[1;33m         \u001b[0mr\u001b[0m \u001b[1;33m=\u001b[0m \u001b[0madapter\u001b[0m\u001b[1;33m.\u001b[0m\u001b[0msend\u001b[0m\u001b[1;33m(\u001b[0m\u001b[0mrequest\u001b[0m\u001b[1;33m,\u001b[0m \u001b[1;33m**\u001b[0m\u001b[0mkwargs\u001b[0m\u001b[1;33m)\u001b[0m\u001b[1;33m\u001b[0m\u001b[0m\n\u001b[0m\u001b[0;32m    619\u001b[0m \u001b[1;33m\u001b[0m\u001b[0m\n\u001b[0;32m    620\u001b[0m         \u001b[1;31m# Total elapsed time of the request (approximately)\u001b[0m\u001b[1;33m\u001b[0m\u001b[1;33m\u001b[0m\u001b[0m\n",
      "\u001b[1;32mD:\\Software\\Anaconda\\lib\\site-packages\\requests\\adapters.py\u001b[0m in \u001b[0;36msend\u001b[1;34m(self, request, stream, timeout, verify, cert, proxies)\u001b[0m\n\u001b[0;32m    494\u001b[0m                 \u001b[1;31m# TODO: Remove this in 3.0.0: see #2811\u001b[0m\u001b[1;33m\u001b[0m\u001b[1;33m\u001b[0m\u001b[0m\n\u001b[0;32m    495\u001b[0m                 \u001b[1;32mif\u001b[0m \u001b[1;32mnot\u001b[0m \u001b[0misinstance\u001b[0m\u001b[1;33m(\u001b[0m\u001b[0me\u001b[0m\u001b[1;33m.\u001b[0m\u001b[0mreason\u001b[0m\u001b[1;33m,\u001b[0m \u001b[0mNewConnectionError\u001b[0m\u001b[1;33m)\u001b[0m\u001b[1;33m:\u001b[0m\u001b[1;33m\u001b[0m\u001b[0m\n\u001b[1;32m--> 496\u001b[1;33m                     \u001b[1;32mraise\u001b[0m \u001b[0mConnectTimeout\u001b[0m\u001b[1;33m(\u001b[0m\u001b[0me\u001b[0m\u001b[1;33m,\u001b[0m \u001b[0mrequest\u001b[0m\u001b[1;33m=\u001b[0m\u001b[0mrequest\u001b[0m\u001b[1;33m)\u001b[0m\u001b[1;33m\u001b[0m\u001b[0m\n\u001b[0m\u001b[0;32m    497\u001b[0m \u001b[1;33m\u001b[0m\u001b[0m\n\u001b[0;32m    498\u001b[0m             \u001b[1;32mif\u001b[0m \u001b[0misinstance\u001b[0m\u001b[1;33m(\u001b[0m\u001b[0me\u001b[0m\u001b[1;33m.\u001b[0m\u001b[0mreason\u001b[0m\u001b[1;33m,\u001b[0m \u001b[0mResponseError\u001b[0m\u001b[1;33m)\u001b[0m\u001b[1;33m:\u001b[0m\u001b[1;33m\u001b[0m\u001b[0m\n",
      "\u001b[1;31mConnectTimeout\u001b[0m: HTTPConnectionPool(host='www.google.com', port=80): Max retries exceeded with url: / (Caused by ConnectTimeoutError(<urllib3.connection.HTTPConnection object at 0x00000000054107B8>, 'Connection to www.google.com timed out. (connect timeout=5)'))"
     ]
    }
   ],
   "source": [
    "import requests\n",
    "r = requests.get(\"http://www.google.com\",timeout=5)"
   ]
  },
  {
   "cell_type": "markdown",
   "metadata": {},
   "source": [
    "### Session"
   ]
  },
  {
   "cell_type": "code",
   "execution_count": null,
   "metadata": {},
   "outputs": [],
   "source": [
    "import requests\n",
    "# 构建会话\n",
    "session  = requests.Session()\n",
    "#　登录url\n",
    "session.post(login_url, data={username, password})\n",
    "#　登录后才能访问的url\n",
    "r = session.get(home_url)\n",
    "session.close()"
   ]
  }
 ],
 "metadata": {
  "kernelspec": {
   "display_name": "Python 3",
   "language": "python",
   "name": "python3"
  },
  "language_info": {
   "codemirror_mode": {
    "name": "ipython",
    "version": 3
   },
   "file_extension": ".py",
   "mimetype": "text/x-python",
   "name": "python",
   "nbconvert_exporter": "python",
   "pygments_lexer": "ipython3",
   "version": "3.6.5"
  }
 },
 "nbformat": 4,
 "nbformat_minor": 2
}
